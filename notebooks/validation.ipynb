{
 "cells": [
  {
   "cell_type": "markdown",
   "metadata": {},
   "source": [
    "# Purpose\n",
    "- To re-create mfishtools in python (along with Hannah's code)\n",
    "- Validate with inhibitory gene panel selection in R: no subsampling\n",
    "- Compare with 240926_for_python_validation.Rmd"
   ]
  },
  {
   "cell_type": "code",
   "execution_count": 55,
   "metadata": {},
   "outputs": [],
   "source": [
    "from pathlib import Path\n",
    "import pandas as pd\n",
    "import numpy as np\n",
    "import matplotlib.pyplot as plt\n",
    "import seaborn as sns\n",
    "import sys\n",
    "from importlib import reload\n",
    "\n",
    "from mfishtoolspy import mfishtools_archived as mft_r\n"
   ]
  },
  {
   "cell_type": "code",
   "execution_count": 56,
   "metadata": {},
   "outputs": [],
   "source": [
    "# options for cluster grouping\n",
    "gene_panel_selection_ops = {\n",
    "    'panel_name': 'inhibitory',\n",
    "    'full_panel_size': 28,\n",
    "    'starting_genes': [\"Gad2\",\"Slc17a7\",\"Pvalb\",\"Sst\",\"Vip\",\"Cck\",\"Tac1\",\"Npy\",\"Crh\",\"Necab1\",\"Ptprt\",\"Kirrel3\",\"Penk\",\"Hpse\",\"Calb2\",\"Chodl\"],\n",
    "    'layer_1234_filter': True,\n",
    "    'use_supertypes': False,\n",
    "    'blend_supertypes': False,\n",
    "    'remove_bad_genes': False,\n",
    "    'other_as_subclass': True,\n",
    "}\n",
    "\n",
    "# gene_panel_selection_ops = {\n",
    "#     'panel_name': 'pan_neuronal',\n",
    "#     'full_panel_size': 30,\n",
    "#     'starting_genes': [\"Gad2\",\"Slc17a7\",\"Tac2\",\"Tac1\",\"Calb1\",\"Npy\",\"Cck\",\"Vip\",\"Crh\",\"Calb2\",\"Penk\",\"Oprm1\",\"Pvalb\",\"Ptprt\",\"Kirrel3\",\"Sst\",\"Ndnf\",\"Nos1\",\"Baz1a\",\"Sncg\",\"Mybpc1\",\"Lamp5\",\"Hpse\",\"Etv1\",\"Rorb\",\"Agmat\",\"Chat\",\"Adamts2\"],\n",
    "#     'layer_1234_filter': True,\n",
    "#     'use_supertypes': False,\n",
    "#     'blend_supertypes': True,\n",
    "#     'remove_bad_genes': True,\n",
    "#     'other_as_subclass': True,\n",
    "# }"
   ]
  },
  {
   "cell_type": "code",
   "execution_count": 59,
   "metadata": {},
   "outputs": [],
   "source": [
    "# paths to the data\n",
    "data_folder = Path('//allen/programs/mindscope/workgroups/omfish/hannahs/mfish_project/gene_panels/L23_inh_panel/Mm_VISp_14236_20180912')\n",
    "output_folder = Path(r'\\\\allen\\programs\\mindscope\\workgroups\\learning\\jinho\\gene_panel_selection\\mfishtoolspy\\results'.replace('\\\\', '/'))"
   ]
  },
  {
   "cell_type": "code",
   "execution_count": 61,
   "metadata": {},
   "outputs": [],
   "source": [
    "# read annotation\n",
    "annotation = pd.read_feather(data_folder / 'anno.feather')\n",
    "\n",
    "# read data (tasic 2018 v1)\n",
    "data = pd.read_feather(data_folder / 'data_t.feather')\n",
    "# Takes about 1 minute to run\n",
    "\n",
    "data.set_index('gene', inplace=True, drop=True)\n",
    "annotation.set_index('sample_id', inplace=True, drop=True)\n",
    "assert np.all(annotation.index.values == data.columns.values)"
   ]
  },
  {
   "cell_type": "code",
   "execution_count": 62,
   "metadata": {},
   "outputs": [
    {
     "name": "stderr",
     "output_type": "stream",
     "text": [
      "C:\\Users\\jinho.kim\\AppData\\Local\\Temp\\ipykernel_29804\\3886428179.py:12: PerformanceWarning: DataFrame is highly fragmented.  This is usually the result of calling `frame.insert` many times, which has poor performance.  Consider joining all columns at once using pd.concat(axis=1) instead. To get a de-fragmented frame, use `newframe = frame.copy()`\n",
      "  annotation['supertype_label'] = annotation.cluster_label.map(supertype.supertype)\n"
     ]
    }
   ],
   "source": [
    "# read supertype information\n",
    "# Though unnecessary, because we are not using supertypes\n",
    "supertype_folder = Path(r'\\\\allen\\programs\\mindscope\\workgroups\\learning\\jinho\\gene_panel_selection\\mfishtoolspy\\data'.replace('\\\\', '/'))\n",
    "supertype_fn = supertype_folder / 'tasic2018_supertypes_manual_v2.xlsx'\n",
    "sheet_name = 'all_supertypes_v2'\n",
    "supertype = pd.read_excel(supertype_fn, sheet_name=sheet_name)\n",
    "supertype.rename(columns={'Cell Type': 'cell_type', 'Supertype': 'supertype'}, inplace=True)\n",
    "supertype.cell_type = supertype.cell_type.str.replace('\\xa0', ' ')\n",
    "supertype.supertype = supertype.supertype.str.replace('\\xa0', ' ')\n",
    "assert np.all([ct in annotation['cluster_label'].values for ct in supertype.cell_type.values])\n",
    "supertype.set_index('cell_type', inplace=True, drop=True)\n",
    "\n",
    "annotation['supertype_label'] = annotation.cluster_label.map(supertype.supertype)"
   ]
  },
  {
   "cell_type": "code",
   "execution_count": 63,
   "metadata": {},
   "outputs": [],
   "source": [
    "# Preprocessing specific to match with Hannah's code\n",
    "keep_class = ['GABAergic']\n",
    "gabaergic_layer_threshold = 0.15\n",
    "L6_layer_threshold = 0.75\n",
    "L1234_labels = ['L1', 'L1-L2/3', 'L1-L4', 'L2/3', 'L2/3-L4', 'L4']\n",
    "L6_labels = ['L5-L6', 'L6', 'L6b']\n",
    "\n",
    "keep_types = []\n",
    "if gene_panel_selection_ops['layer_1234_filter']:\n",
    "    if 'Glutamatergic' in keep_class:\n",
    "        L234_exc_subclasses = ['L2/3 IT','L4']\n",
    "        L5_exc_subclasses = ['L5 IT','L5 PT','NP']\n",
    "        L234_exc_types = annotation[annotation['subclass_label'].isin(L234_exc_subclasses)].cluster_label.unique()\n",
    "        L5_exc_types = annotation[annotation['subclass_label'].isin(L5_exc_subclasses)].cluster_label.unique()\n",
    "        keep_types.extend(L234_exc_types)\n",
    "    if 'GABAergic' in keep_class:\n",
    "        layer_df = annotation.query('class_label==\"GABAergic\"')[['layer_label', 'cluster_label']].copy()\n",
    "        layer_table = layer_df.groupby(['layer_label', 'cluster_label']).size().unstack(fill_value=0)\n",
    "        prop_table = layer_table.div(layer_table.sum(axis=0), axis=1)\n",
    "        L1234_prop_sum = prop_table.loc[L1234_labels].sum(axis=0)\n",
    "        L1234_inh_types = set(L1234_prop_sum[L1234_prop_sum >= gabaergic_layer_threshold].index.values)\n",
    "        not_L1234_inh_types = set(layer_df.cluster_label).difference(L1234_inh_types)\n",
    "        L6_prop_sum = prop_table.loc[L6_labels].sum(axis=0)\n",
    "        L6_inh_types = set(L6_prop_sum[L6_prop_sum >= L6_layer_threshold].index.values)\n",
    "        L5_inh_types = not_L1234_inh_types.difference(L6_inh_types)\n",
    "        keep_types.extend(L1234_inh_types)\n",
    "    \n",
    "    # Check these codes later\n",
    "    if gene_panel_selection_ops['other_as_subclass']:\n",
    "        L5_inh_cluster_labels = []\n",
    "        for cluster_label in L5_inh_types:\n",
    "            temp_subclass = cluster_label.split(' ')[0]\n",
    "            indices = annotation.query('cluster_label==@cluster_label').index\n",
    "            annotation.loc[indices, 'cluster_label'] = f'L5 Inh {temp_subclass}' # need to change this code later. Don't reuse the same column name!\n",
    "            L5_inh_cluster_labels.append(f'L5 Inh {temp_subclass}')\n",
    "        L5_inh_cluster_labels = np.unique(L5_inh_cluster_labels)\n",
    "        keep_types.extend(L5_inh_cluster_labels)\n",
    "    else:\n",
    "        keep_types.extend(L5_inh_types)\n",
    "    \n",
    "    # Check these codes later\n",
    "    if gene_panel_selection_ops['use_supertypes']:\n",
    "        keep_clusts = annotation.query('cluster_label in @keep_types').supertype_label.unique()\n",
    "        L5_inh_types = annotation.query('cluster_label in @L5_inh_types').L5_inh_types.unique()\n",
    "        annotation['cluster_label_original'] = annotation['cluster_label']\n",
    "        annotation['cluster_label'] = annotation['supertype_label']\n",
    "        annotation.query('cluster_label_original in @L5_inh_cluster_labels')['cluster_label'] = \\\n",
    "            annotation.query('cluster_label_original in @L5_inh_cluster_labels')['cluster_label_original']\n",
    "    else:\n",
    "        keep_clusts = annotation.query('cluster_label in @keep_types').cluster_label.unique()\n",
    "    \n"
   ]
  },
  {
   "cell_type": "code",
   "execution_count": 64,
   "metadata": {},
   "outputs": [],
   "source": [
    "# remove starting genes that are not in the data\n",
    "st_in_data = [st not in data.index.values for st in gene_panel_selection_ops['starting_genes']]\n",
    "if np.any(st_in_data):\n",
    "    st_not_in_data = [st for i, st in enumerate(gene_panel_selection_ops['starting_genes']) if st_in_data[i]]\n",
    "    print(f'{st_not_in_data} are not in the data')\n",
    "    gene_panel_selection_ops['starting_genes'] = [st for st in gene_panel_selection_ops['starting_genes'] if st not in st_not_in_data]"
   ]
  },
  {
   "cell_type": "code",
   "execution_count": 65,
   "metadata": {},
   "outputs": [],
   "source": [
    "# Convert cpm data to log2\n",
    "data_log2 = np.log2(data + 1)\n",
    "# takes about 9 s to run"
   ]
  },
  {
   "cell_type": "code",
   "execution_count": 66,
   "metadata": {},
   "outputs": [],
   "source": [
    "# calculate proportions and medians per cluster\n",
    "cluster_names = annotation.cluster_label.unique()\n",
    "expr_thresh = 1\n",
    "# make data_log2 to have another level of columns with matching cluster names per cell ID\n",
    "data_log2_cluster = data_log2.copy().T\n",
    "assert np.all(data_log2.columns == annotation.index.values)\n",
    "# groupby cluster and calculate median and proportion\n",
    "data_log2_cluster['cluster_label'] = annotation['cluster_label']\n",
    "median_per_cluster = data_log2_cluster.groupby('cluster_label').median().T\n",
    "prop_expr = data_log2_cluster.groupby('cluster_label').apply(lambda x: (x > expr_thresh).mean(axis=0)).T\n",
    "assert np.all(prop_expr.index.values == median_per_cluster.index.values)\n",
    "assert np.all(prop_expr.index.values == data_log2.index.values)\n",
    "\n"
   ]
  },
  {
   "cell_type": "code",
   "execution_count": 67,
   "metadata": {},
   "outputs": [],
   "source": [
    "# Compare with R results\n",
    "prop_expr_r_fn = output_folder / 'prop_expr_tmp_R.csv'\n",
    "median_per_cluster_r_fn = output_folder / 'median_expr_tmp_R.csv'\n",
    "prop_expr_r = pd.read_csv(prop_expr_r_fn, index_col=0)\n",
    "median_per_cluster_r = pd.read_csv(median_per_cluster_r_fn, index_col=0)"
   ]
  },
  {
   "cell_type": "code",
   "execution_count": 68,
   "metadata": {},
   "outputs": [
    {
     "data": {
      "text/plain": [
       "5.551115123125783e-16"
      ]
     },
     "execution_count": 68,
     "metadata": {},
     "output_type": "execute_result"
    }
   ],
   "source": [
    "np.max(np.abs(prop_expr - prop_expr_r))"
   ]
  },
  {
   "cell_type": "code",
   "execution_count": 70,
   "metadata": {},
   "outputs": [
    {
     "data": {
      "text/html": [
       "<div>\n",
       "<style scoped>\n",
       "    .dataframe tbody tr th:only-of-type {\n",
       "        vertical-align: middle;\n",
       "    }\n",
       "\n",
       "    .dataframe tbody tr th {\n",
       "        vertical-align: top;\n",
       "    }\n",
       "\n",
       "    .dataframe thead th {\n",
       "        text-align: right;\n",
       "    }\n",
       "</style>\n",
       "<table border=\"1\" class=\"dataframe\">\n",
       "  <thead>\n",
       "    <tr style=\"text-align: right;\">\n",
       "      <th></th>\n",
       "      <th>Astro Aqp4</th>\n",
       "      <th>CR Lhx5</th>\n",
       "      <th>Endo Ctla2a</th>\n",
       "      <th>Endo Cytl1</th>\n",
       "      <th>L2/3 IT VISp Adamts2</th>\n",
       "      <th>L2/3 IT VISp Agmat</th>\n",
       "      <th>L2/3 IT VISp Rrad</th>\n",
       "      <th>L4 IT VISp Rspo1</th>\n",
       "      <th>L5 IT VISp Batf3</th>\n",
       "      <th>L5 IT VISp Col27a1</th>\n",
       "      <th>...</th>\n",
       "      <th>Vip Crispld2 Kcne4</th>\n",
       "      <th>Vip Igfbp4 Mab21l1</th>\n",
       "      <th>Vip Igfbp6 Car10</th>\n",
       "      <th>Vip Igfbp6 Pltp</th>\n",
       "      <th>Vip Lect1 Oxtr</th>\n",
       "      <th>Vip Lmo1 Myl1</th>\n",
       "      <th>Vip Ptprt Pkp2</th>\n",
       "      <th>Vip Pygm C1ql1</th>\n",
       "      <th>Vip Rspo1 Itga4</th>\n",
       "      <th>Vip Rspo4 Rxfp1 Chat</th>\n",
       "    </tr>\n",
       "  </thead>\n",
       "  <tbody>\n",
       "    <tr>\n",
       "      <th>0610005C13Rik</th>\n",
       "      <td>0.000000</td>\n",
       "      <td>0.000000</td>\n",
       "      <td>0.0</td>\n",
       "      <td>0.0</td>\n",
       "      <td>0.000000</td>\n",
       "      <td>0.000000</td>\n",
       "      <td>0.000000</td>\n",
       "      <td>0.000000</td>\n",
       "      <td>0.000000</td>\n",
       "      <td>0.000000</td>\n",
       "      <td>...</td>\n",
       "      <td>0.000000</td>\n",
       "      <td>0.000000</td>\n",
       "      <td>0.000000</td>\n",
       "      <td>0.000000</td>\n",
       "      <td>0.000000</td>\n",
       "      <td>0.000000</td>\n",
       "      <td>0.000000</td>\n",
       "      <td>0.000000</td>\n",
       "      <td>0.000000</td>\n",
       "      <td>0.000000</td>\n",
       "    </tr>\n",
       "    <tr>\n",
       "      <th>0610006L08Rik</th>\n",
       "      <td>0.000000</td>\n",
       "      <td>0.000000</td>\n",
       "      <td>0.0</td>\n",
       "      <td>0.0</td>\n",
       "      <td>0.000000</td>\n",
       "      <td>0.000000</td>\n",
       "      <td>0.000000</td>\n",
       "      <td>0.000000</td>\n",
       "      <td>0.000000</td>\n",
       "      <td>0.000000</td>\n",
       "      <td>...</td>\n",
       "      <td>0.000000</td>\n",
       "      <td>0.000000</td>\n",
       "      <td>0.000000</td>\n",
       "      <td>0.000000</td>\n",
       "      <td>0.000000</td>\n",
       "      <td>0.000000</td>\n",
       "      <td>0.000000</td>\n",
       "      <td>0.000000</td>\n",
       "      <td>0.000000</td>\n",
       "      <td>0.000000</td>\n",
       "    </tr>\n",
       "    <tr>\n",
       "      <th>0610007P14Rik</th>\n",
       "      <td>0.000000</td>\n",
       "      <td>6.247789</td>\n",
       "      <td>0.0</td>\n",
       "      <td>0.0</td>\n",
       "      <td>6.914645</td>\n",
       "      <td>6.657416</td>\n",
       "      <td>6.141694</td>\n",
       "      <td>6.418927</td>\n",
       "      <td>6.173059</td>\n",
       "      <td>6.312999</td>\n",
       "      <td>...</td>\n",
       "      <td>5.870013</td>\n",
       "      <td>6.374446</td>\n",
       "      <td>6.279457</td>\n",
       "      <td>6.552380</td>\n",
       "      <td>6.466378</td>\n",
       "      <td>6.474331</td>\n",
       "      <td>6.894218</td>\n",
       "      <td>6.418571</td>\n",
       "      <td>6.642808</td>\n",
       "      <td>6.875275</td>\n",
       "    </tr>\n",
       "    <tr>\n",
       "      <th>0610009B22Rik</th>\n",
       "      <td>0.814706</td>\n",
       "      <td>0.000000</td>\n",
       "      <td>0.0</td>\n",
       "      <td>0.0</td>\n",
       "      <td>5.769752</td>\n",
       "      <td>6.076098</td>\n",
       "      <td>4.468977</td>\n",
       "      <td>5.788960</td>\n",
       "      <td>5.990343</td>\n",
       "      <td>6.339431</td>\n",
       "      <td>...</td>\n",
       "      <td>5.918368</td>\n",
       "      <td>6.000401</td>\n",
       "      <td>5.269012</td>\n",
       "      <td>5.617239</td>\n",
       "      <td>6.258903</td>\n",
       "      <td>6.428014</td>\n",
       "      <td>6.458077</td>\n",
       "      <td>5.990274</td>\n",
       "      <td>6.165060</td>\n",
       "      <td>6.249834</td>\n",
       "    </tr>\n",
       "    <tr>\n",
       "      <th>0610009E02Rik</th>\n",
       "      <td>0.000000</td>\n",
       "      <td>0.000000</td>\n",
       "      <td>0.0</td>\n",
       "      <td>0.0</td>\n",
       "      <td>0.000000</td>\n",
       "      <td>0.000000</td>\n",
       "      <td>0.000000</td>\n",
       "      <td>0.000000</td>\n",
       "      <td>0.000000</td>\n",
       "      <td>0.000000</td>\n",
       "      <td>...</td>\n",
       "      <td>0.000000</td>\n",
       "      <td>0.000000</td>\n",
       "      <td>0.000000</td>\n",
       "      <td>0.000000</td>\n",
       "      <td>0.000000</td>\n",
       "      <td>0.000000</td>\n",
       "      <td>0.000000</td>\n",
       "      <td>0.000000</td>\n",
       "      <td>0.000000</td>\n",
       "      <td>0.000000</td>\n",
       "    </tr>\n",
       "  </tbody>\n",
       "</table>\n",
       "<p>5 rows × 100 columns</p>\n",
       "</div>"
      ],
      "text/plain": [
       "               Astro Aqp4   CR Lhx5  Endo Ctla2a  Endo Cytl1  \\\n",
       "0610005C13Rik    0.000000  0.000000          0.0         0.0   \n",
       "0610006L08Rik    0.000000  0.000000          0.0         0.0   \n",
       "0610007P14Rik    0.000000  6.247789          0.0         0.0   \n",
       "0610009B22Rik    0.814706  0.000000          0.0         0.0   \n",
       "0610009E02Rik    0.000000  0.000000          0.0         0.0   \n",
       "\n",
       "               L2/3 IT VISp Adamts2  L2/3 IT VISp Agmat  L2/3 IT VISp Rrad  \\\n",
       "0610005C13Rik              0.000000            0.000000           0.000000   \n",
       "0610006L08Rik              0.000000            0.000000           0.000000   \n",
       "0610007P14Rik              6.914645            6.657416           6.141694   \n",
       "0610009B22Rik              5.769752            6.076098           4.468977   \n",
       "0610009E02Rik              0.000000            0.000000           0.000000   \n",
       "\n",
       "               L4 IT VISp Rspo1  L5 IT VISp Batf3  L5 IT VISp Col27a1  ...  \\\n",
       "0610005C13Rik          0.000000          0.000000            0.000000  ...   \n",
       "0610006L08Rik          0.000000          0.000000            0.000000  ...   \n",
       "0610007P14Rik          6.418927          6.173059            6.312999  ...   \n",
       "0610009B22Rik          5.788960          5.990343            6.339431  ...   \n",
       "0610009E02Rik          0.000000          0.000000            0.000000  ...   \n",
       "\n",
       "               Vip Crispld2 Kcne4  Vip Igfbp4 Mab21l1  Vip Igfbp6 Car10  \\\n",
       "0610005C13Rik            0.000000            0.000000          0.000000   \n",
       "0610006L08Rik            0.000000            0.000000          0.000000   \n",
       "0610007P14Rik            5.870013            6.374446          6.279457   \n",
       "0610009B22Rik            5.918368            6.000401          5.269012   \n",
       "0610009E02Rik            0.000000            0.000000          0.000000   \n",
       "\n",
       "               Vip Igfbp6 Pltp  Vip Lect1 Oxtr  Vip Lmo1 Myl1  Vip Ptprt Pkp2  \\\n",
       "0610005C13Rik         0.000000        0.000000       0.000000        0.000000   \n",
       "0610006L08Rik         0.000000        0.000000       0.000000        0.000000   \n",
       "0610007P14Rik         6.552380        6.466378       6.474331        6.894218   \n",
       "0610009B22Rik         5.617239        6.258903       6.428014        6.458077   \n",
       "0610009E02Rik         0.000000        0.000000       0.000000        0.000000   \n",
       "\n",
       "               Vip Pygm C1ql1  Vip Rspo1 Itga4  Vip Rspo4 Rxfp1 Chat  \n",
       "0610005C13Rik        0.000000         0.000000              0.000000  \n",
       "0610006L08Rik        0.000000         0.000000              0.000000  \n",
       "0610007P14Rik        6.418571         6.642808              6.875275  \n",
       "0610009B22Rik        5.990274         6.165060              6.249834  \n",
       "0610009E02Rik        0.000000         0.000000              0.000000  \n",
       "\n",
       "[5 rows x 100 columns]"
      ]
     },
     "execution_count": 70,
     "metadata": {},
     "output_type": "execute_result"
    }
   ],
   "source": [
    "# order median_per_cluster_r by the column name order of median_per_cluster\n",
    "median_per_cluster_r = median_per_cluster_r[median_per_cluster.columns]\n",
    "median_per_cluster_r.head()"
   ]
  },
  {
   "cell_type": "code",
   "execution_count": 71,
   "metadata": {},
   "outputs": [
    {
     "data": {
      "text/plain": [
       "4.973799150320701e-14"
      ]
     },
     "execution_count": 71,
     "metadata": {},
     "output_type": "execute_result"
    }
   ],
   "source": [
    "np.max(np.abs(median_per_cluster.values - median_per_cluster_r.values))"
   ]
  },
  {
   "cell_type": "markdown",
   "metadata": {},
   "source": [
    "## median and propexpr correct\n",
    "- Now go into the filter panel function"
   ]
  },
  {
   "cell_type": "code",
   "execution_count": 83,
   "metadata": {},
   "outputs": [
    {
     "name": "stdout",
     "output_type": "stream",
     "text": [
      "1263 total genes pass constraints prior to binary score calculation.\n"
     ]
    }
   ],
   "source": [
    "run_genes, keep_genes  = mft_r.filter_panel_genes_archived(\n",
    "    2**median_per_cluster - 1, \n",
    "    prop_expr=prop_expr,\n",
    "    on_clusters=list(keep_clusts),\n",
    "    off_clusters=list(annotation.query('class_label==\"Non-Neuronal\"').cluster_label.unique()),\n",
    "    starting_genes=gene_panel_selection_ops['starting_genes'],\n",
    "    num_binary_genes=300,\n",
    "    min_on=10,\n",
    "    max_on=300,\n",
    "    max_off=10,\n",
    "    min_length=1400,\n",
    "    max_fraction_on_clusters=0.5,\n",
    "    exclude_families=[\"LOC\",\"Fam\",\"RIK\",\"RPS\",\"RPL\",\"\\\\-\",\"Gm\",\"Rnf\",\"BC0\"])"
   ]
  },
  {
   "cell_type": "code",
   "execution_count": 80,
   "metadata": {},
   "outputs": [],
   "source": [
    "run_genes_r_fn = output_folder / 'run_genes_tmp_inh_R.csv'\n",
    "run_genes_r = pd.read_csv(run_genes_r_fn, index_col=0)\n",
    "run_genes_r = run_genes_r.index.values"
   ]
  },
  {
   "cell_type": "code",
   "execution_count": 81,
   "metadata": {},
   "outputs": [
    {
     "data": {
      "text/plain": [
       "313"
      ]
     },
     "execution_count": 81,
     "metadata": {},
     "output_type": "execute_result"
    }
   ],
   "source": [
    "len(run_genes_r)"
   ]
  },
  {
   "cell_type": "code",
   "execution_count": 84,
   "metadata": {},
   "outputs": [
    {
     "data": {
      "text/plain": [
       "313"
      ]
     },
     "execution_count": 84,
     "metadata": {},
     "output_type": "execute_result"
    }
   ],
   "source": [
    "len(run_genes)"
   ]
  },
  {
   "cell_type": "code",
   "execution_count": 85,
   "metadata": {},
   "outputs": [
    {
     "data": {
      "text/plain": [
       "set()"
      ]
     },
     "execution_count": 85,
     "metadata": {},
     "output_type": "execute_result"
    }
   ],
   "source": [
    "set(run_genes_r) - set(run_genes)"
   ]
  },
  {
   "cell_type": "markdown",
   "metadata": {},
   "source": [
    "# Up until gene filtering is working correctly\n"
   ]
  },
  {
   "cell_type": "markdown",
   "metadata": {},
   "source": [
    "## Testing keep_genes, on_clusters, and beta_Scores"
   ]
  },
  {
   "cell_type": "code",
   "execution_count": 86,
   "metadata": {},
   "outputs": [],
   "source": [
    "genes = median_per_cluster.index\n",
    "keep_genes_df = pd.DataFrame({'keep':keep_genes}, index=genes)\n",
    "# keep_genes_df.to_csv(output_folder / 'keep_genes_python.csv')"
   ]
  },
  {
   "cell_type": "code",
   "execution_count": 87,
   "metadata": {},
   "outputs": [
    {
     "data": {
      "text/html": [
       "<div>\n",
       "<style scoped>\n",
       "    .dataframe tbody tr th:only-of-type {\n",
       "        vertical-align: middle;\n",
       "    }\n",
       "\n",
       "    .dataframe tbody tr th {\n",
       "        vertical-align: top;\n",
       "    }\n",
       "\n",
       "    .dataframe thead th {\n",
       "        text-align: right;\n",
       "    }\n",
       "</style>\n",
       "<table border=\"1\" class=\"dataframe\">\n",
       "  <thead>\n",
       "    <tr style=\"text-align: right;\">\n",
       "      <th></th>\n",
       "      <th>keep</th>\n",
       "    </tr>\n",
       "    <tr>\n",
       "      <th>gene</th>\n",
       "      <th></th>\n",
       "    </tr>\n",
       "  </thead>\n",
       "  <tbody>\n",
       "    <tr>\n",
       "      <th>0610005C13Rik</th>\n",
       "      <td>False</td>\n",
       "    </tr>\n",
       "    <tr>\n",
       "      <th>0610006L08Rik</th>\n",
       "      <td>False</td>\n",
       "    </tr>\n",
       "    <tr>\n",
       "      <th>0610007P14Rik</th>\n",
       "      <td>False</td>\n",
       "    </tr>\n",
       "    <tr>\n",
       "      <th>0610009B22Rik</th>\n",
       "      <td>False</td>\n",
       "    </tr>\n",
       "    <tr>\n",
       "      <th>0610009E02Rik</th>\n",
       "      <td>False</td>\n",
       "    </tr>\n",
       "    <tr>\n",
       "      <th>...</th>\n",
       "      <td>...</td>\n",
       "    </tr>\n",
       "    <tr>\n",
       "      <th>n-R5s142</th>\n",
       "      <td>False</td>\n",
       "    </tr>\n",
       "    <tr>\n",
       "      <th>n-R5s143</th>\n",
       "      <td>False</td>\n",
       "    </tr>\n",
       "    <tr>\n",
       "      <th>n-R5s144</th>\n",
       "      <td>False</td>\n",
       "    </tr>\n",
       "    <tr>\n",
       "      <th>n-R5s146</th>\n",
       "      <td>False</td>\n",
       "    </tr>\n",
       "    <tr>\n",
       "      <th>n-R5s149</th>\n",
       "      <td>False</td>\n",
       "    </tr>\n",
       "  </tbody>\n",
       "</table>\n",
       "<p>45768 rows × 1 columns</p>\n",
       "</div>"
      ],
      "text/plain": [
       "                keep\n",
       "gene                \n",
       "0610005C13Rik  False\n",
       "0610006L08Rik  False\n",
       "0610007P14Rik  False\n",
       "0610009B22Rik  False\n",
       "0610009E02Rik  False\n",
       "...              ...\n",
       "n-R5s142       False\n",
       "n-R5s143       False\n",
       "n-R5s144       False\n",
       "n-R5s146       False\n",
       "n-R5s149       False\n",
       "\n",
       "[45768 rows x 1 columns]"
      ]
     },
     "execution_count": 87,
     "metadata": {},
     "output_type": "execute_result"
    }
   ],
   "source": [
    "keep_genes_df"
   ]
  },
  {
   "cell_type": "code",
   "execution_count": 88,
   "metadata": {},
   "outputs": [],
   "source": [
    "keep_genes_r = pd.read_csv(output_folder / 'keepGenes_tmp_inh_R.csv')\n",
    "keep_genes_r.rename(columns={'Unnamed: 0':'gene', 'x': 'keep_r'}, inplace=True)\n",
    "keep_genes_r.set_index('gene', inplace=True, drop=True)"
   ]
  },
  {
   "cell_type": "code",
   "execution_count": 89,
   "metadata": {},
   "outputs": [
    {
     "data": {
      "text/html": [
       "<div>\n",
       "<style scoped>\n",
       "    .dataframe tbody tr th:only-of-type {\n",
       "        vertical-align: middle;\n",
       "    }\n",
       "\n",
       "    .dataframe tbody tr th {\n",
       "        vertical-align: top;\n",
       "    }\n",
       "\n",
       "    .dataframe thead th {\n",
       "        text-align: right;\n",
       "    }\n",
       "</style>\n",
       "<table border=\"1\" class=\"dataframe\">\n",
       "  <thead>\n",
       "    <tr style=\"text-align: right;\">\n",
       "      <th></th>\n",
       "      <th>keep_r</th>\n",
       "    </tr>\n",
       "    <tr>\n",
       "      <th>gene</th>\n",
       "      <th></th>\n",
       "    </tr>\n",
       "  </thead>\n",
       "  <tbody>\n",
       "    <tr>\n",
       "      <th>0610005C13Rik</th>\n",
       "      <td>False</td>\n",
       "    </tr>\n",
       "    <tr>\n",
       "      <th>0610006L08Rik</th>\n",
       "      <td>False</td>\n",
       "    </tr>\n",
       "    <tr>\n",
       "      <th>0610007P14Rik</th>\n",
       "      <td>False</td>\n",
       "    </tr>\n",
       "    <tr>\n",
       "      <th>0610009B22Rik</th>\n",
       "      <td>False</td>\n",
       "    </tr>\n",
       "    <tr>\n",
       "      <th>0610009E02Rik</th>\n",
       "      <td>False</td>\n",
       "    </tr>\n",
       "    <tr>\n",
       "      <th>...</th>\n",
       "      <td>...</td>\n",
       "    </tr>\n",
       "    <tr>\n",
       "      <th>n-R5s142</th>\n",
       "      <td>False</td>\n",
       "    </tr>\n",
       "    <tr>\n",
       "      <th>n-R5s143</th>\n",
       "      <td>False</td>\n",
       "    </tr>\n",
       "    <tr>\n",
       "      <th>n-R5s144</th>\n",
       "      <td>False</td>\n",
       "    </tr>\n",
       "    <tr>\n",
       "      <th>n-R5s146</th>\n",
       "      <td>False</td>\n",
       "    </tr>\n",
       "    <tr>\n",
       "      <th>n-R5s149</th>\n",
       "      <td>False</td>\n",
       "    </tr>\n",
       "  </tbody>\n",
       "</table>\n",
       "<p>45768 rows × 1 columns</p>\n",
       "</div>"
      ],
      "text/plain": [
       "               keep_r\n",
       "gene                 \n",
       "0610005C13Rik   False\n",
       "0610006L08Rik   False\n",
       "0610007P14Rik   False\n",
       "0610009B22Rik   False\n",
       "0610009E02Rik   False\n",
       "...               ...\n",
       "n-R5s142        False\n",
       "n-R5s143        False\n",
       "n-R5s144        False\n",
       "n-R5s146        False\n",
       "n-R5s149        False\n",
       "\n",
       "[45768 rows x 1 columns]"
      ]
     },
     "execution_count": 89,
     "metadata": {},
     "output_type": "execute_result"
    }
   ],
   "source": [
    "keep_genes_r"
   ]
  },
  {
   "cell_type": "code",
   "execution_count": 90,
   "metadata": {},
   "outputs": [
    {
     "data": {
      "text/plain": [
       "True"
      ]
     },
     "execution_count": 90,
     "metadata": {},
     "output_type": "execute_result"
    }
   ],
   "source": [
    "np.all(keep_genes_r.index == keep_genes_df.index)"
   ]
  },
  {
   "cell_type": "code",
   "execution_count": 91,
   "metadata": {},
   "outputs": [],
   "source": [
    "keep_genes_merged = keep_genes_r.merge(keep_genes_df, left_index=True, right_index=True, how='inner')"
   ]
  },
  {
   "cell_type": "code",
   "execution_count": 92,
   "metadata": {},
   "outputs": [
    {
     "data": {
      "text/html": [
       "<div>\n",
       "<style scoped>\n",
       "    .dataframe tbody tr th:only-of-type {\n",
       "        vertical-align: middle;\n",
       "    }\n",
       "\n",
       "    .dataframe tbody tr th {\n",
       "        vertical-align: top;\n",
       "    }\n",
       "\n",
       "    .dataframe thead th {\n",
       "        text-align: right;\n",
       "    }\n",
       "</style>\n",
       "<table border=\"1\" class=\"dataframe\">\n",
       "  <thead>\n",
       "    <tr style=\"text-align: right;\">\n",
       "      <th></th>\n",
       "      <th>keep_r</th>\n",
       "      <th>keep</th>\n",
       "    </tr>\n",
       "    <tr>\n",
       "      <th>gene</th>\n",
       "      <th></th>\n",
       "      <th></th>\n",
       "    </tr>\n",
       "  </thead>\n",
       "  <tbody>\n",
       "    <tr>\n",
       "      <th>0610005C13Rik</th>\n",
       "      <td>False</td>\n",
       "      <td>False</td>\n",
       "    </tr>\n",
       "    <tr>\n",
       "      <th>0610006L08Rik</th>\n",
       "      <td>False</td>\n",
       "      <td>False</td>\n",
       "    </tr>\n",
       "    <tr>\n",
       "      <th>0610007P14Rik</th>\n",
       "      <td>False</td>\n",
       "      <td>False</td>\n",
       "    </tr>\n",
       "    <tr>\n",
       "      <th>0610009B22Rik</th>\n",
       "      <td>False</td>\n",
       "      <td>False</td>\n",
       "    </tr>\n",
       "    <tr>\n",
       "      <th>0610009E02Rik</th>\n",
       "      <td>False</td>\n",
       "      <td>False</td>\n",
       "    </tr>\n",
       "    <tr>\n",
       "      <th>...</th>\n",
       "      <td>...</td>\n",
       "      <td>...</td>\n",
       "    </tr>\n",
       "    <tr>\n",
       "      <th>n-R5s142</th>\n",
       "      <td>False</td>\n",
       "      <td>False</td>\n",
       "    </tr>\n",
       "    <tr>\n",
       "      <th>n-R5s143</th>\n",
       "      <td>False</td>\n",
       "      <td>False</td>\n",
       "    </tr>\n",
       "    <tr>\n",
       "      <th>n-R5s144</th>\n",
       "      <td>False</td>\n",
       "      <td>False</td>\n",
       "    </tr>\n",
       "    <tr>\n",
       "      <th>n-R5s146</th>\n",
       "      <td>False</td>\n",
       "      <td>False</td>\n",
       "    </tr>\n",
       "    <tr>\n",
       "      <th>n-R5s149</th>\n",
       "      <td>False</td>\n",
       "      <td>False</td>\n",
       "    </tr>\n",
       "  </tbody>\n",
       "</table>\n",
       "<p>45768 rows × 2 columns</p>\n",
       "</div>"
      ],
      "text/plain": [
       "               keep_r   keep\n",
       "gene                        \n",
       "0610005C13Rik   False  False\n",
       "0610006L08Rik   False  False\n",
       "0610007P14Rik   False  False\n",
       "0610009B22Rik   False  False\n",
       "0610009E02Rik   False  False\n",
       "...               ...    ...\n",
       "n-R5s142        False  False\n",
       "n-R5s143        False  False\n",
       "n-R5s144        False  False\n",
       "n-R5s146        False  False\n",
       "n-R5s149        False  False\n",
       "\n",
       "[45768 rows x 2 columns]"
      ]
     },
     "execution_count": 92,
     "metadata": {},
     "output_type": "execute_result"
    }
   ],
   "source": [
    "keep_genes_merged"
   ]
  },
  {
   "cell_type": "code",
   "execution_count": 93,
   "metadata": {},
   "outputs": [
    {
     "data": {
      "text/plain": [
       "(array([], dtype=int64),)"
      ]
     },
     "execution_count": 93,
     "metadata": {},
     "output_type": "execute_result"
    }
   ],
   "source": [
    "np.where(keep_genes_merged.keep.values != keep_genes_merged.keep_r.values)"
   ]
  },
  {
   "cell_type": "code",
   "execution_count": 94,
   "metadata": {},
   "outputs": [
    {
     "data": {
      "text/plain": [
       "True"
      ]
     },
     "execution_count": 94,
     "metadata": {},
     "output_type": "execute_result"
    }
   ],
   "source": [
    "np.equal(keep_genes_df.values, keep_genes_r.values).all()"
   ]
  },
  {
   "cell_type": "markdown",
   "metadata": {},
   "source": [
    "## Up until keep_genes are the same.\n",
    "- So the problem is in beta score calculation"
   ]
  },
  {
   "cell_type": "code",
   "execution_count": 97,
   "metadata": {},
   "outputs": [],
   "source": [
    "from mfishtoolspy import filtering\n",
    "on_clusters=list(keep_clusts)\n",
    "top_beta_scores = filtering.get_beta_score(prop_expr.loc[keep_genes, on_clusters], True)\n",
    "top_beta = filtering.get_beta_score(prop_expr.loc[keep_genes, on_clusters], False)"
   ]
  },
  {
   "cell_type": "code",
   "execution_count": 99,
   "metadata": {},
   "outputs": [],
   "source": [
    "top_beta_scores_r = pd.read_csv(output_folder / 'topBeta_scores_tmp_inh_R.csv', index_col=0)\n",
    "top_beta_r = pd.read_csv(output_folder / 'topBeta_tmp_inh_R.csv', index_col=0)"
   ]
  },
  {
   "cell_type": "code",
   "execution_count": 101,
   "metadata": {},
   "outputs": [
    {
     "data": {
      "text/html": [
       "<div>\n",
       "<style scoped>\n",
       "    .dataframe tbody tr th:only-of-type {\n",
       "        vertical-align: middle;\n",
       "    }\n",
       "\n",
       "    .dataframe tbody tr th {\n",
       "        vertical-align: top;\n",
       "    }\n",
       "\n",
       "    .dataframe thead th {\n",
       "        text-align: right;\n",
       "    }\n",
       "</style>\n",
       "<table border=\"1\" class=\"dataframe\">\n",
       "  <thead>\n",
       "    <tr style=\"text-align: right;\">\n",
       "      <th></th>\n",
       "      <th>x</th>\n",
       "    </tr>\n",
       "  </thead>\n",
       "  <tbody>\n",
       "    <tr>\n",
       "      <th>AA414768</th>\n",
       "      <td>619</td>\n",
       "    </tr>\n",
       "    <tr>\n",
       "      <th>AF529169</th>\n",
       "      <td>287</td>\n",
       "    </tr>\n",
       "    <tr>\n",
       "      <th>AK129341</th>\n",
       "      <td>571</td>\n",
       "    </tr>\n",
       "    <tr>\n",
       "      <th>AU022252</th>\n",
       "      <td>690</td>\n",
       "    </tr>\n",
       "    <tr>\n",
       "      <th>AU041133</th>\n",
       "      <td>1148</td>\n",
       "    </tr>\n",
       "    <tr>\n",
       "      <th>...</th>\n",
       "      <td>...</td>\n",
       "    </tr>\n",
       "    <tr>\n",
       "      <th>Zkscan14</th>\n",
       "      <td>926</td>\n",
       "    </tr>\n",
       "    <tr>\n",
       "      <th>Znhit6</th>\n",
       "      <td>1043</td>\n",
       "    </tr>\n",
       "    <tr>\n",
       "      <th>Zpbp</th>\n",
       "      <td>941</td>\n",
       "    </tr>\n",
       "    <tr>\n",
       "      <th>Zscan18</th>\n",
       "      <td>1210</td>\n",
       "    </tr>\n",
       "    <tr>\n",
       "      <th>Zscan21</th>\n",
       "      <td>936</td>\n",
       "    </tr>\n",
       "  </tbody>\n",
       "</table>\n",
       "<p>1263 rows × 1 columns</p>\n",
       "</div>"
      ],
      "text/plain": [
       "             x\n",
       "AA414768   619\n",
       "AF529169   287\n",
       "AK129341   571\n",
       "AU022252   690\n",
       "AU041133  1148\n",
       "...        ...\n",
       "Zkscan14   926\n",
       "Znhit6    1043\n",
       "Zpbp       941\n",
       "Zscan18   1210\n",
       "Zscan21    936\n",
       "\n",
       "[1263 rows x 1 columns]"
      ]
     },
     "execution_count": 101,
     "metadata": {},
     "output_type": "execute_result"
    }
   ],
   "source": [
    "top_beta_r"
   ]
  },
  {
   "cell_type": "code",
   "execution_count": 109,
   "metadata": {},
   "outputs": [
    {
     "data": {
      "text/plain": [
       "True"
      ]
     },
     "execution_count": 109,
     "metadata": {},
     "output_type": "execute_result"
    }
   ],
   "source": [
    "np.all(top_beta_r.x.values == top_beta)"
   ]
  },
  {
   "cell_type": "code",
   "execution_count": 102,
   "metadata": {},
   "outputs": [
    {
     "data": {
      "text/plain": [
       "1.2501111257279263e-12"
      ]
     },
     "execution_count": 102,
     "metadata": {},
     "output_type": "execute_result"
    }
   ],
   "source": [
    "np.max(np.abs(top_beta_scores_r.x.values - top_beta_scores))"
   ]
  },
  {
   "cell_type": "markdown",
   "metadata": {},
   "source": [
    "# Testing gene panel building now"
   ]
  },
  {
   "cell_type": "code",
   "execution_count": 110,
   "metadata": {},
   "outputs": [],
   "source": [
    "keep_sampled_cells = annotation.query('cluster_label in @keep_clusts').index.values\n"
   ]
  },
  {
   "cell_type": "code",
   "execution_count": 113,
   "metadata": {},
   "outputs": [
    {
     "name": "stdout",
     "output_type": "stream",
     "text": [
      "Added Nkain3 with 0.662, now matching [16].\n",
      "Added Oprm1 with 0.685, now matching [17].\n",
      "Added Htr1f with 0.701, now matching [18].\n",
      "Added Il1rapl2 with 0.713, now matching [19].\n",
      "Added Tpbg with 0.723, now matching [20].\n",
      "Added Ngf with 0.731, now matching [21].\n",
      "Added Fibcd1 with 0.739, now matching [22].\n",
      "Added Cpne4 with 0.745, now matching [23].\n",
      "Added Sfrp2 with 0.750, now matching [24].\n",
      "Added Grm8 with 0.755, now matching [25].\n",
      "Added Pfkfb3 with 0.761, now matching [26].\n",
      "Added Tox with 0.764, now matching [27].\n"
     ]
    }
   ],
   "source": [
    "reload(mft_r)\n",
    "built_panel = mft_r.build_mapping_based_marker_panel_archived(\n",
    "                map_data=data_log2.loc[run_genes, keep_sampled_cells].copy(),\n",
    "                median_data=median_per_cluster.loc[run_genes, keep_clusts].copy(),\n",
    "                cluster_call=annotation.loc[keep_sampled_cells, 'cluster_label'].copy(),\n",
    "                panel_size=gene_panel_selection_ops['full_panel_size'],\n",
    "                current_panel=gene_panel_selection_ops['starting_genes'].copy(),\n",
    "                num_subsample=None,\n",
    "                panel_min=3, # should not affect\n",
    "                # optimize='correlation_distance',\n",
    "                optimize='fraction_correct',\n",
    "\n",
    ")\n",
    "# Takes 7 minutes and 17 seconds to run (pan-inhibitory)\n",
    "# Takes 6 minutes and 46 seconds to run after indexing cluster_label map\n",
    "# Takes 7 minutes and 39 seconds after removing cluster_distance re-calculation (weird...)\n",
    "# Takes 7 minutes and 17 seconds after flattening cluster_distance dataframe. (revert back for readability)\n",
    "\n",
    "# Leave the cluster_distance as dataframe, as it is easier to read"
   ]
  },
  {
   "cell_type": "code",
   "execution_count": 116,
   "metadata": {},
   "outputs": [],
   "source": [
    "built_panel_r = pd.read_csv(output_folder / 'gene_panel_selection_results_nosubsample_fraction_correct_R.csv', index_col=0)"
   ]
  },
  {
   "cell_type": "code",
   "execution_count": 119,
   "metadata": {},
   "outputs": [
    {
     "data": {
      "text/plain": [
       "True"
      ]
     },
     "execution_count": 119,
     "metadata": {},
     "output_type": "execute_result"
    }
   ],
   "source": [
    "np.all(built_panel_r.index.values == built_panel)"
   ]
  },
  {
   "cell_type": "code",
   "execution_count": 121,
   "metadata": {},
   "outputs": [
    {
     "data": {
      "text/plain": [
       "Gene\n",
       "Nkain3      66.167825\n",
       "Oprm1       68.466061\n",
       "Htr1f       70.069482\n",
       "Il1rapl2    71.298771\n",
       "Tpbg        72.314270\n",
       "Ngf         73.115981\n",
       "Fibcd1      73.864244\n",
       "Cpne4       74.469980\n",
       "Sfrp2       74.986638\n",
       "Grm8        75.485480\n",
       "Pfkfb3      76.091217\n",
       "Tox         76.411901\n",
       "Name: Accuracy, dtype: float64"
      ]
     },
     "execution_count": 121,
     "metadata": {},
     "output_type": "execute_result"
    }
   ],
   "source": [
    "built_panel_r.iloc[16:].Accuracy"
   ]
  },
  {
   "cell_type": "markdown",
   "metadata": {},
   "source": [
    "# All works fine, validated with both fraction_correct and correlation_distance"
   ]
  }
 ],
 "metadata": {
  "kernelspec": {
   "display_name": "mfish",
   "language": "python",
   "name": "python3"
  },
  "language_info": {
   "codemirror_mode": {
    "name": "ipython",
    "version": 3
   },
   "file_extension": ".py",
   "mimetype": "text/x-python",
   "name": "python",
   "nbconvert_exporter": "python",
   "pygments_lexer": "ipython3",
   "version": "3.9.19"
  }
 },
 "nbformat": 4,
 "nbformat_minor": 2
}
